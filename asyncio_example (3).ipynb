{
 "cells": [
  {
   "cell_type": "markdown",
   "metadata": {
    "extensions": {
     "jupyter_dashboards": {
      "version": 1,
      "views": {
       "default_view": {
        "col": 0,
        "height": 2,
        "row": 0,
        "width": 12
       }
      }
     }
    }
   },
   "source": [
    "# Importing some libraries"
   ]
  },
  {
   "cell_type": "code",
   "execution_count": 8,
   "metadata": {
    "extensions": {
     "jupyter_dashboards": {
      "version": 1,
      "views": {
       "default_view": {
        "hidden": true
       }
      }
     }
    }
   },
   "outputs": [],
   "source": [
    "from pynq.overlays.base import BaseOverlay\n",
    "import pynq.lib.rgbled as rgbled \n",
    "import time"
   ]
  },
  {
   "cell_type": "markdown",
   "metadata": {
    "extensions": {
     "jupyter_dashboards": {
      "version": 1,
      "views": {
       "default_view": {
        "col": 0,
        "height": 2,
        "row": 4,
        "width": 12
       }
      }
     }
    }
   },
   "source": [
    "# Programming the PL"
   ]
  },
  {
   "cell_type": "code",
   "execution_count": 9,
   "metadata": {
    "extensions": {
     "jupyter_dashboards": {
      "version": 1,
      "views": {
       "default_view": {
        "col": 0,
        "height": 2,
        "row": 6,
        "width": 12
       }
      }
     }
    }
   },
   "outputs": [
    {
     "name": "stderr",
     "output_type": "stream",
     "text": [
      "Task was destroyed but it is pending!\n",
      "task: <Task pending name='Task-3' coro=<flash_leds() done, defined at /tmp/ipykernel_953/2115493465.py:14> wait_for=<Future pending cb=[Task.__wakeup()]>>\n"
     ]
    }
   ],
   "source": [
    "base = BaseOverlay(\"base.bit\")"
   ]
  },
  {
   "cell_type": "markdown",
   "metadata": {
    "extensions": {
     "jupyter_dashboards": {
      "version": 1,
      "views": {
       "default_view": {
        "col": 0,
        "height": 2,
        "row": 8,
        "width": 12
       }
      }
     }
    }
   },
   "source": [
    "# Defining buttons and LEDs"
   ]
  },
  {
   "cell_type": "code",
   "execution_count": 10,
   "metadata": {
    "extensions": {
     "jupyter_dashboards": {
      "version": 1,
      "views": {
       "default_view": {
        "hidden": true
       }
      }
     }
    }
   },
   "outputs": [],
   "source": [
    "btns = base.btns_gpio\n",
    "led4 = rgbled.RGBLED(4)\n",
    "led5 = rgbled.RGBLED(5)"
   ]
  },
  {
   "cell_type": "markdown",
   "metadata": {
    "extensions": {
     "jupyter_dashboards": {
      "version": 1,
      "views": {
       "default_view": {
        "col": 0,
        "height": 2,
        "row": 12,
        "width": 12
       }
      }
     }
    }
   },
   "source": [
    "# Using a loop to blink the LEDS and read from buttons"
   ]
  },
  {
   "cell_type": "code",
   "execution_count": 11,
   "metadata": {
    "extensions": {
     "jupyter_dashboards": {
      "version": 1,
      "views": {
       "default_view": {
        "hidden": true
       }
      }
     }
    }
   },
   "outputs": [],
   "source": [
    "while True:\n",
    "    led4.write(0x1)\n",
    "    led5.write(0x7)\n",
    "    if btns.read() != 0:\n",
    "        break\n",
    "    time.sleep(0.1)\n",
    "    led4.write(0x0)\n",
    "    led5.write(0x0)\n",
    "    if btns.read() != 0:\n",
    "        break\n",
    "    time.sleep(0.05)\n",
    "    led4.write(0x1)\n",
    "    led5.write(0x7)\n",
    "    if btns.read() != 0:\n",
    "        break\n",
    "    time.sleep(0.1)\n",
    "    led4.write(0x0)\n",
    "    led5.write(0x0)\n",
    "    if btns.read() != 0:\n",
    "        break\n",
    "    time.sleep(0.05)\n",
    "    \n",
    "    led4.write(0x7)\n",
    "    led5.write(0x4)\n",
    "    if btns.read() != 0:\n",
    "        break\n",
    "    time.sleep(0.1)\n",
    "    led4.write(0x0)\n",
    "    led5.write(0x0)\n",
    "    if btns.read() != 0:\n",
    "        break\n",
    "    time.sleep(0.05)\n",
    "    led4.write(0x7)\n",
    "    led5.write(0x4)\n",
    "    if btns.read() != 0:\n",
    "        break\n",
    "    time.sleep(0.1)\n",
    "    led4.write(0x0)\n",
    "    led5.write(0x0)\n",
    "    if btns.read() != 0:\n",
    "        break\n",
    "    time.sleep(0.05)\n",
    "\n",
    "led4.write(0x0)\n",
    "led5.write(0x0)\n"
   ]
  },
  {
   "cell_type": "markdown",
   "metadata": {
    "extensions": {
     "jupyter_dashboards": {
      "version": 1,
      "views": {
       "default_view": {
        "col": 0,
        "height": 2,
        "row": 16,
        "width": 12
       }
      }
     }
    }
   },
   "source": [
    "# Using asyncio to blink the LEDS and read from buttons"
   ]
  },
  {
   "cell_type": "code",
   "execution_count": 4,
   "metadata": {
    "extensions": {
     "jupyter_dashboards": {
      "version": 1,
      "views": {
       "default_view": {
        "col": 0,
        "height": 2,
        "row": 18,
        "width": 12
       }
      }
     }
    }
   },
   "outputs": [
    {
     "name": "stdout",
     "output_type": "stream",
     "text": [
      "Done.\n"
     ]
    }
   ],
   "source": [
    "import asyncio\n",
    "cond = True\n",
    "\n",
    "async def flash_leds():\n",
    "    global cond, start\n",
    "    while cond:\n",
    "        led4.write(0x1)\n",
    "        led5.write(0x7)\n",
    "        await asyncio.sleep(0.1)\n",
    "        led4.write(0x0)\n",
    "        led5.write(0x0)\n",
    "        await asyncio.sleep(0.05)\n",
    "        led4.write(0x1)\n",
    "        led5.write(0x7)\n",
    "        await asyncio.sleep(0.1)\n",
    "        led4.write(0x0)\n",
    "        led5.write(0x0)\n",
    "        await asyncio.sleep(0.05)\n",
    "\n",
    "        led4.write(0x7)\n",
    "        led5.write(0x4)\n",
    "        await asyncio.sleep(0.1)\n",
    "        led4.write(0x0)\n",
    "        led5.write(0x0)\n",
    "        await asyncio.sleep(0.05)\n",
    "        led4.write(0x7)\n",
    "        led5.write(0x4)\n",
    "        await asyncio.sleep(0.1)\n",
    "        led4.write(0x0)\n",
    "        led5.write(0x0)\n",
    "        await asyncio.sleep(0.05)\n",
    "\n",
    "async def get_btns(_loop):\n",
    "    global cond, start\n",
    "    while cond:\n",
    "        await asyncio.sleep(0.01)\n",
    "        if base.buttons[0].read() != 0:\n",
    "            _loop.stop()\n",
    "            cond = False\n",
    "\n"
   ]
  },
  {
   "cell_type": "markdown",
   "metadata": {
    "extensions": {
     "jupyter_dashboards": {
      "version": 1,
      "views": {
       "default_view": {
        "col": 0,
        "height": 2,
        "row": 20,
        "width": 12
       }
      }
     }
    }
   },
   "source": [
    "# Lab work\n",
    "Using the code from previous cell as a template, write a code to start the blinking when button 0 is pushed and stop the blinking when button 1 is pushed."
   ]
  },
  {
   "cell_type": "code",
   "execution_count": 13,
   "metadata": {
    "extensions": {
     "jupyter_dashboards": {
      "version": 1,
      "views": {
       "default_view": {
        "hidden": true
       }
      }
     }
    }
   },
   "outputs": [],
   "source": [
    "# write your code here."
   ]
  },
  {
   "cell_type": "code",
   "execution_count": 1,
   "metadata": {
    "extensions": {
     "jupyter_dashboards": {
      "version": 1,
      "views": {
       "default_view": {
        "col": 0,
        "height": 2,
        "row": 24,
        "width": 12
       }
      }
     }
    }
   },
   "outputs": [
    {
     "data": {
      "application/javascript": [
       "\n",
       "try {\n",
       "require(['notebook/js/codecell'], function(codecell) {\n",
       "  codecell.CodeCell.options_default.highlight_modes[\n",
       "      'magic_text/x-csrc'] = {'reg':[/^%%microblaze/]};\n",
       "  Jupyter.notebook.events.one('kernel_ready.Kernel', function(){\n",
       "      Jupyter.notebook.get_cells().map(function(cell){\n",
       "          if (cell.cell_type == 'code'){ cell.auto_highlight(); } }) ;\n",
       "  });\n",
       "});\n",
       "} catch (e) {};\n"
      ]
     },
     "metadata": {},
     "output_type": "display_data"
    },
    {
     "data": {
      "application/javascript": [
       "\n",
       "try {\n",
       "require(['notebook/js/codecell'], function(codecell) {\n",
       "  codecell.CodeCell.options_default.highlight_modes[\n",
       "      'magic_text/x-csrc'] = {'reg':[/^%%pybind11/]};\n",
       "  Jupyter.notebook.events.one('kernel_ready.Kernel', function(){\n",
       "      Jupyter.notebook.get_cells().map(function(cell){\n",
       "          if (cell.cell_type == 'code'){ cell.auto_highlight(); } }) ;\n",
       "  });\n",
       "});\n",
       "} catch (e) {};\n"
      ]
     },
     "metadata": {},
     "output_type": "display_data"
    },
    {
     "name": "stdout",
     "output_type": "stream",
     "text": [
      "Done.\n"
     ]
    }
   ],
   "source": [
    "from pynq.overlays.base import BaseOverlay\n",
    "from pynq.lib import AxiGPIO\n",
    "import pynq.lib.rgbled as rgbled \n",
    "import pynq.lib.button as button\n",
    "import time\n",
    "import asyncio\n",
    "cond = True\n",
    "base = BaseOverlay(\"base.bit\")\n",
    "btns = base.btns_gpio\n",
    "led4 = rgbled.RGBLED(4)\n",
    "led5 = rgbled.RGBLED(5)\n",
    "\n",
    "cond = True\n",
    "\n",
    "async def flash_leds():\n",
    "    global cond, start\n",
    "    while cond:\n",
    "        led4.write(0x1)\n",
    "        led5.write(0x7)\n",
    "        await asyncio.sleep(0.1)\n",
    "        led4.write(0x0)\n",
    "        led5.write(0x0)\n",
    "        await asyncio.sleep(0.05)\n",
    "        led4.write(0x1)\n",
    "        led5.write(0x7)\n",
    "        await asyncio.sleep(0.1)\n",
    "        led4.write(0x0)\n",
    "        led5.write(0x0)\n",
    "        await asyncio.sleep(0.05)\n",
    "\n",
    "        led4.write(0x7)\n",
    "        led5.write(0x4)\n",
    "        await asyncio.sleep(0.1)\n",
    "        led4.write(0x0)\n",
    "        led5.write(0x0)\n",
    "        await asyncio.sleep(0.05)\n",
    "        led4.write(0x7)\n",
    "        led5.write(0x4)\n",
    "        await asyncio.sleep(0.1)\n",
    "        led4.write(0x0)\n",
    "        led5.write(0x0)\n",
    "        await asyncio.sleep(0.05)\n",
    "\n",
    "async def get_btns(_loop, _start):\n",
    "    global cond, start\n",
    "    while cond:\n",
    "        await asyncio.sleep(0.01)\n",
    "        if base.buttons[1].read() != 0:\n",
    "            _loop.stop()\n",
    "            _start.stop()\n",
    "            cond = False\n",
    "            \n",
    "#async def flash_led(_loop):\n",
    " #   while True:\n",
    "  #      await base.buttons[0].wait_for_value_async(1)\n",
    "   #     while base.buttons[0].read():\n",
    "    #        await asyncio.sleep(0.1)\n",
    "        \n",
    "   \n",
    "async def start_btn(_start):\n",
    "    global cond, start\n",
    "    while cond:\n",
    "        await asyncio.sleep(0.01)\n",
    "        if base.buttons[0].read() != 0:\n",
    "            loop = asyncio.new_event_loop()\n",
    "            loop.create_task(flash_leds())\n",
    "            loop.create_task(get_btns(loop, _start))\n",
    "            loop.run_forever()\n",
    "            loop.close() \n",
    "            \n",
    "start = asyncio.new_event_loop()\n",
    "start.create_task(start_btn(start))\n",
    "start.run_forever()\n",
    "led4.write(0x0)\n",
    "led5.write(0x0)\n",
    "print(\"Done.\")"
   ]
  },
  {
   "cell_type": "code",
   "execution_count": 15,
   "metadata": {
    "extensions": {
     "jupyter_dashboards": {
      "version": 1,
      "views": {
       "default_view": {
        "col": 0,
        "height": 2,
        "row": 26,
        "width": 12
       }
      }
     }
    }
   },
   "outputs": [
    {
     "name": "stdout",
     "output_type": "stream",
     "text": [
      "Help on AxiGPIO in module pynq.lib.axigpio object:\n",
      "\n",
      "class AxiGPIO(pynq.overlay.DefaultIP)\n",
      " |  AxiGPIO(description)\n",
      " |  \n",
      " |  Class for interacting with the AXI GPIO IP block.\n",
      " |  \n",
      " |  This class exposes the two banks of GPIO as the `channel1` and\n",
      " |  `channel2` attributes. Each channel can have the direction and\n",
      " |  the number of wires specified.\n",
      " |  \n",
      " |  The wires in the channel can be accessed from the channel using\n",
      " |  slice notation - all slices must have a stride of 1. Input wires\n",
      " |  can be `read` and output wires can be written to, toggled, or\n",
      " |  turned off or on. InOut channels combine the functionality of\n",
      " |  input and output channels. The tristate of the pin is determined\n",
      " |  by whether the pin was last read or written.\n",
      " |  \n",
      " |  Method resolution order:\n",
      " |      AxiGPIO\n",
      " |      pynq.overlay.DefaultIP\n",
      " |      builtins.object\n",
      " |  \n",
      " |  Methods defined here:\n",
      " |  \n",
      " |  __getitem__(self, idx)\n",
      " |  \n",
      " |  __init__(self, description)\n",
      " |      Initialize self.  See help(type(self)) for accurate signature.\n",
      " |  \n",
      " |  setdirection(self, direction, channel=1)\n",
      " |      Sets the direction of a channel in the controller\n",
      " |      \n",
      " |      Must be one of AxiGPIO.{Input, Output, InOut} or the string\n",
      " |      'in', 'out' or 'inout'\n",
      " |  \n",
      " |  setlength(self, length, channel=1)\n",
      " |      Sets the length of a channel in the controller\n",
      " |  \n",
      " |  ----------------------------------------------------------------------\n",
      " |  Data and other attributes defined here:\n",
      " |  \n",
      " |  Channel = <class 'pynq.lib.axigpio.AxiGPIO.Channel'>\n",
      " |      Class representing a single channel of the GPIO controller.\n",
      " |      \n",
      " |      Wires are and bundles of wires can be accessed using array notation\n",
      " |      with the methods on the wires determined by the type of the channel::\n",
      " |      \n",
      " |          input_channel[0].read()\n",
      " |          output_channel[1:3].on()\n",
      " |      \n",
      " |      This class instantiated not used directly, instead accessed through\n",
      " |      the `AxiGPIO` classes attributes. This class exposes the wires\n",
      " |      connected to the channel as an array or elements. Slices of the\n",
      " |      array can be assigned simultaneously.\n",
      " |  \n",
      " |  \n",
      " |  InOut = <class 'pynq.lib.axigpio.AxiGPIO.InOut'>\n",
      " |      Class representing wires in an inout channel.\n",
      " |      \n",
      " |      This class should be passed to `setdirection` to indicate the\n",
      " |      channel should be used for both input and output. It should not\n",
      " |      be used directly.\n",
      " |  \n",
      " |  \n",
      " |  Input = <class 'pynq.lib.axigpio.AxiGPIO.Input'>\n",
      " |      Class representing wires in an input channel.\n",
      " |      \n",
      " |      This class should be passed to `setdirection` to indicate the\n",
      " |      channel should be used for input only. It should not be used\n",
      " |      directly.\n",
      " |  \n",
      " |  \n",
      " |  Output = <class 'pynq.lib.axigpio.AxiGPIO.Output'>\n",
      " |      Class representing wires in an output channel.\n",
      " |      \n",
      " |      This class should be passed to `setdirection` to indicate the\n",
      " |      channel should be used for output only. It should not be used\n",
      " |      directly.\n",
      " |  \n",
      " |  \n",
      " |  bindto = ['xilinx.com:ip:axi_gpio:2.0']\n",
      " |  \n",
      " |  ----------------------------------------------------------------------\n",
      " |  Methods inherited from pynq.overlay.DefaultIP:\n",
      " |  \n",
      " |  read(self, offset=0)\n",
      " |      Read from the MMIO device\n",
      " |      \n",
      " |      Parameters\n",
      " |      ----------\n",
      " |      offset : int\n",
      " |          Address to read\n",
      " |  \n",
      " |  write(self, offset, value)\n",
      " |      Write to the MMIO device\n",
      " |      \n",
      " |      Parameters\n",
      " |      ----------\n",
      " |      offset : int\n",
      " |          Address to write to\n",
      " |      value : int or bytes\n",
      " |          Data to write\n",
      " |  \n",
      " |  ----------------------------------------------------------------------\n",
      " |  Readonly properties inherited from pynq.overlay.DefaultIP:\n",
      " |  \n",
      " |  register_map\n",
      " |  \n",
      " |  signature\n",
      " |      The signature of the `call` method\n",
      " |  \n",
      " |  ----------------------------------------------------------------------\n",
      " |  Data descriptors inherited from pynq.overlay.DefaultIP:\n",
      " |  \n",
      " |  __dict__\n",
      " |      dictionary for instance variables (if defined)\n",
      " |  \n",
      " |  __weakref__\n",
      " |      list of weak references to the object (if defined)\n",
      "\n"
     ]
    }
   ],
   "source": [
    "help(btns)"
   ]
  },
  {
   "cell_type": "code",
   "execution_count": 16,
   "metadata": {
    "extensions": {
     "jupyter_dashboards": {
      "version": 1,
      "views": {
       "default_view": {
        "col": 0,
        "height": 2,
        "row": 28,
        "width": 12
       }
      }
     }
    }
   },
   "outputs": [
    {
     "name": "stdout",
     "output_type": "stream",
     "text": [
      "Help on AxiGPIO in module pynq.lib.axigpio object:\n",
      "\n",
      "class AxiGPIO(pynq.overlay.DefaultIP)\n",
      " |  AxiGPIO(description)\n",
      " |  \n",
      " |  Class for interacting with the AXI GPIO IP block.\n",
      " |  \n",
      " |  This class exposes the two banks of GPIO as the `channel1` and\n",
      " |  `channel2` attributes. Each channel can have the direction and\n",
      " |  the number of wires specified.\n",
      " |  \n",
      " |  The wires in the channel can be accessed from the channel using\n",
      " |  slice notation - all slices must have a stride of 1. Input wires\n",
      " |  can be `read` and output wires can be written to, toggled, or\n",
      " |  turned off or on. InOut channels combine the functionality of\n",
      " |  input and output channels. The tristate of the pin is determined\n",
      " |  by whether the pin was last read or written.\n",
      " |  \n",
      " |  Method resolution order:\n",
      " |      AxiGPIO\n",
      " |      pynq.overlay.DefaultIP\n",
      " |      builtins.object\n",
      " |  \n",
      " |  Methods defined here:\n",
      " |  \n",
      " |  __getitem__(self, idx)\n",
      " |  \n",
      " |  __init__(self, description)\n",
      " |      Initialize self.  See help(type(self)) for accurate signature.\n",
      " |  \n",
      " |  setdirection(self, direction, channel=1)\n",
      " |      Sets the direction of a channel in the controller\n",
      " |      \n",
      " |      Must be one of AxiGPIO.{Input, Output, InOut} or the string\n",
      " |      'in', 'out' or 'inout'\n",
      " |  \n",
      " |  setlength(self, length, channel=1)\n",
      " |      Sets the length of a channel in the controller\n",
      " |  \n",
      " |  ----------------------------------------------------------------------\n",
      " |  Data and other attributes defined here:\n",
      " |  \n",
      " |  Channel = <class 'pynq.lib.axigpio.AxiGPIO.Channel'>\n",
      " |      Class representing a single channel of the GPIO controller.\n",
      " |      \n",
      " |      Wires are and bundles of wires can be accessed using array notation\n",
      " |      with the methods on the wires determined by the type of the channel::\n",
      " |      \n",
      " |          input_channel[0].read()\n",
      " |          output_channel[1:3].on()\n",
      " |      \n",
      " |      This class instantiated not used directly, instead accessed through\n",
      " |      the `AxiGPIO` classes attributes. This class exposes the wires\n",
      " |      connected to the channel as an array or elements. Slices of the\n",
      " |      array can be assigned simultaneously.\n",
      " |  \n",
      " |  \n",
      " |  InOut = <class 'pynq.lib.axigpio.AxiGPIO.InOut'>\n",
      " |      Class representing wires in an inout channel.\n",
      " |      \n",
      " |      This class should be passed to `setdirection` to indicate the\n",
      " |      channel should be used for both input and output. It should not\n",
      " |      be used directly.\n",
      " |  \n",
      " |  \n",
      " |  Input = <class 'pynq.lib.axigpio.AxiGPIO.Input'>\n",
      " |      Class representing wires in an input channel.\n",
      " |      \n",
      " |      This class should be passed to `setdirection` to indicate the\n",
      " |      channel should be used for input only. It should not be used\n",
      " |      directly.\n",
      " |  \n",
      " |  \n",
      " |  Output = <class 'pynq.lib.axigpio.AxiGPIO.Output'>\n",
      " |      Class representing wires in an output channel.\n",
      " |      \n",
      " |      This class should be passed to `setdirection` to indicate the\n",
      " |      channel should be used for output only. It should not be used\n",
      " |      directly.\n",
      " |  \n",
      " |  \n",
      " |  bindto = ['xilinx.com:ip:axi_gpio:2.0']\n",
      " |  \n",
      " |  ----------------------------------------------------------------------\n",
      " |  Methods inherited from pynq.overlay.DefaultIP:\n",
      " |  \n",
      " |  read(self, offset=0)\n",
      " |      Read from the MMIO device\n",
      " |      \n",
      " |      Parameters\n",
      " |      ----------\n",
      " |      offset : int\n",
      " |          Address to read\n",
      " |  \n",
      " |  write(self, offset, value)\n",
      " |      Write to the MMIO device\n",
      " |      \n",
      " |      Parameters\n",
      " |      ----------\n",
      " |      offset : int\n",
      " |          Address to write to\n",
      " |      value : int or bytes\n",
      " |          Data to write\n",
      " |  \n",
      " |  ----------------------------------------------------------------------\n",
      " |  Readonly properties inherited from pynq.overlay.DefaultIP:\n",
      " |  \n",
      " |  register_map\n",
      " |  \n",
      " |  signature\n",
      " |      The signature of the `call` method\n",
      " |  \n",
      " |  ----------------------------------------------------------------------\n",
      " |  Data descriptors inherited from pynq.overlay.DefaultIP:\n",
      " |  \n",
      " |  __dict__\n",
      " |      dictionary for instance variables (if defined)\n",
      " |  \n",
      " |  __weakref__\n",
      " |      list of weak references to the object (if defined)\n",
      "\n"
     ]
    }
   ],
   "source": [
    "help(base.btns_gpio)"
   ]
  },
  {
   "cell_type": "code",
   "execution_count": null,
   "metadata": {
    "extensions": {
     "jupyter_dashboards": {
      "version": 1,
      "views": {
       "default_view": {
        "hidden": true
       }
      }
     }
    }
   },
   "outputs": [],
   "source": []
  }
 ],
 "metadata": {
  "extensions": {
   "jupyter_dashboards": {
    "activeView": "default_view",
    "version": 1,
    "views": {
     "default_view": {
      "cellMargin": 10,
      "defaultCellHeight": 40,
      "maxColumns": 12,
      "name": "active_view",
      "type": "grid"
     }
    }
   }
  },
  "kernelspec": {
   "display_name": "Python 3 (ipykernel)",
   "language": "python",
   "name": "python3"
  },
  "language_info": {
   "codemirror_mode": {
    "name": "ipython",
    "version": 3
   },
   "file_extension": ".py",
   "mimetype": "text/x-python",
   "name": "python",
   "nbconvert_exporter": "python",
   "pygments_lexer": "ipython3",
   "version": "3.10.4"
  }
 },
 "nbformat": 4,
 "nbformat_minor": 2
}
