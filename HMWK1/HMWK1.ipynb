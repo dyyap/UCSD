{
 "cells": [
  {
   "cell_type": "code",
   "execution_count": 1,
   "id": "abf02483",
   "metadata": {},
   "outputs": [
    {
     "data": {
      "application/javascript": [
       "\n",
       "try {\n",
       "require(['notebook/js/codecell'], function(codecell) {\n",
       "  codecell.CodeCell.options_default.highlight_modes[\n",
       "      'magic_text/x-csrc'] = {'reg':[/^%%microblaze/]};\n",
       "  Jupyter.notebook.events.one('kernel_ready.Kernel', function(){\n",
       "      Jupyter.notebook.get_cells().map(function(cell){\n",
       "          if (cell.cell_type == 'code'){ cell.auto_highlight(); } }) ;\n",
       "  });\n",
       "});\n",
       "} catch (e) {};\n"
      ]
     },
     "metadata": {},
     "output_type": "display_data"
    },
    {
     "data": {
      "application/javascript": [
       "\n",
       "try {\n",
       "require(['notebook/js/codecell'], function(codecell) {\n",
       "  codecell.CodeCell.options_default.highlight_modes[\n",
       "      'magic_text/x-csrc'] = {'reg':[/^%%pybind11/]};\n",
       "  Jupyter.notebook.events.one('kernel_ready.Kernel', function(){\n",
       "      Jupyter.notebook.get_cells().map(function(cell){\n",
       "          if (cell.cell_type == 'code'){ cell.auto_highlight(); } }) ;\n",
       "  });\n",
       "});\n",
       "} catch (e) {};\n"
      ]
     },
     "metadata": {},
     "output_type": "display_data"
    }
   ],
   "source": [
    "from ipywidgets import interact, interactive, fixed, interact_manual\n",
    "import ipywidgets as widgets\n",
    "from pynq.overlays.base import BaseOverlay\n",
    "import time\n",
    "from datetime import datetime\n",
    "base = BaseOverlay(\"base.bit\")"
   ]
  },
  {
   "cell_type": "code",
   "execution_count": 2,
   "id": "4d0fcec1",
   "metadata": {},
   "outputs": [],
   "source": [
    "%%microblaze base.PMODB\n",
    "\n",
    "#include \"gpio.h\"\n",
    "#include \"pyprintf.h\"\n",
    "\n",
    "//Function to turn on/off a selected pin of PMODB\n",
    "void write_gpio(unsigned int pin, unsigned int val){\n",
    "    if (val > 1){\n",
    "        pyprintf(\"pin value must be 0 or 1\");\n",
    "    }\n",
    "    gpio pin_out = gpio_open(pin);\n",
    "    gpio_set_direction(pin_out, GPIO_OUT);\n",
    "    gpio_write(pin_out, val);\n",
    "}\n",
    "\n",
    "//Function to read the value of a selected pin of PMODB\n",
    "unsigned int read_gpio(unsigned int pin){\n",
    "    gpio pin_in = gpio_open(pin);\n",
    "    gpio_set_direction(pin_in, GPIO_IN);\n",
    "    return gpio_read(pin_in);\n",
    "}\n",
    "\n",
    "\n",
    "//resets pins\n",
    "void reset_pins()\n",
    "{\n",
    "    write_gpio(1,0);\n",
    "    write_gpio(2,0);\n",
    "    write_gpio(3,0);\n",
    "}"
   ]
  },
  {
   "cell_type": "code",
   "execution_count": 3,
   "id": "5848a40f",
   "metadata": {},
   "outputs": [],
   "source": [
    "reset_pins()"
   ]
  },
  {
   "cell_type": "code",
   "execution_count": null,
   "id": "4c99022c",
   "metadata": {},
   "outputs": [],
   "source": [
    "import time\n",
    "\n",
    "while True:\n",
    "    write_gpio(2,0)\n",
    "    time.sleep(0.005) // off 25%\n",
    "    write_gpio(2,1)\n",
    "    time.sleep(0.015) // on 75%"
   ]
  },
  {
   "cell_type": "code",
   "execution_count": 7,
   "id": "b4076165",
   "metadata": {},
   "outputs": [],
   "source": [
    "write_gpio(2,0)"
   ]
  },
  {
   "cell_type": "code",
   "execution_count": 11,
   "id": "3467a497",
   "metadata": {},
   "outputs": [],
   "source": [
    "write_gpio(2,1)"
   ]
  },
  {
   "cell_type": "code",
   "execution_count": 15,
   "id": "fbea07bb",
   "metadata": {},
   "outputs": [],
   "source": [
    "base = BaseOverlay(\"base.bit\")"
   ]
  },
  {
   "cell_type": "markdown",
   "id": "8680b10c",
   "metadata": {},
   "source": [
    "# flipping buttons on and off to configure pin lights"
   ]
  },
  {
   "cell_type": "code",
   "execution_count": null,
   "id": "047037a6",
   "metadata": {},
   "outputs": [
    {
     "name": "stdout",
     "output_type": "stream",
     "text": [
      "here\n",
      "here\n",
      "here\n",
      "here too\n",
      "here too\n",
      "here too\n",
      "here too\n",
      "here 3\n",
      "here 3\n",
      "here 3\n",
      "off\n",
      "off\n",
      "off\n",
      "here\n",
      "here\n",
      "off\n",
      "off\n",
      "off\n",
      "here\n",
      "here\n",
      "here too\n",
      "here too\n",
      "here too\n",
      "here too\n",
      "here 3\n",
      "here 3\n",
      "here\n",
      "here\n",
      "here\n",
      "off\n",
      "off\n",
      "off\n"
     ]
    }
   ],
   "source": [
    "import asyncio\n",
    "\n",
    "#blue = False\n",
    "Red = asyncio.new_event_loop()\n",
    "Blue = asyncio.new_event_loop()\n",
    "Green = asyncio.new_event_loop()\n",
    "\n",
    "const = True\n",
    "reset = True\n",
    "blue = False\n",
    "red = False\n",
    "green = False\n",
    "\n",
    "def Reset():\n",
    "    write_gpio(1,0)\n",
    "    write_gpio(2,0)\n",
    "    write_gpio(3,0)\n",
    "\n",
    "async def flash_Blue():\n",
    "    global const, reset\n",
    "    while const:\n",
    "        if reset == False:\n",
    "            Reset()\n",
    "            reset = True\n",
    "        await asyncio.sleep(1)\n",
    "        while blue:\n",
    "            write_gpio(1,0)\n",
    "            await asyncio.sleep(1) #off 25%\n",
    "            write_gpio(1,1)\n",
    "            await asyncio.sleep(1) #on 75%\n",
    "\n",
    "async def flash_Green():\n",
    "    global const, reset\n",
    "    while const:\n",
    "        if reset == False:\n",
    "            Reset()\n",
    "            reset = True\n",
    "        await asyncio.sleep(1)\n",
    "        while green:\n",
    "            write_gpio(3,0)\n",
    "            await asyncio.sleep(1) #off 25%\n",
    "            write_gpio(3,1)\n",
    "            await asyncio.sleep(1) #on 75%\n",
    "        \n",
    "async def flash_Red():\n",
    "    global const, reset\n",
    "    while const:\n",
    "        if reset == False:\n",
    "            Reset()\n",
    "            reset = True\n",
    "        await asyncio.sleep(1)\n",
    "        while red:\n",
    "            write_gpio(2,0)\n",
    "            await asyncio.sleep(1) #off 25%\n",
    "            write_gpio(2,1)\n",
    "            await asyncio.sleep(1) #on 75%\n",
    "\n",
    "\n",
    "async def Blue_Button(_loop):#0 button, pin 1\n",
    "    global red, blue, green, reset\n",
    "    while True:\n",
    "        await asyncio.sleep(0.05)\n",
    "        if base.buttons[0].read() != 0:\n",
    "            print(\"here\")\n",
    "            reset = False\n",
    "            blue = True\n",
    "            red = False\n",
    "            green = False\n",
    "            \n",
    "async def Red_Button(_loop): #1 button, pin 2\n",
    "    global red, blue, green, reset\n",
    "    while True:\n",
    "        await asyncio.sleep(0.05)\n",
    "        if base.buttons[1].read() != 0:\n",
    "            print(\"here too\")\n",
    "            reset = False\n",
    "            blue = False\n",
    "            red = True\n",
    "            green = False\n",
    "            \n",
    "async def Green_Button(_loop): #2 button, pin 3\n",
    "    global red, blue, green, reset\n",
    "    while True:\n",
    "        await asyncio.sleep(0.05)\n",
    "        if base.buttons[2].read() != 0:\n",
    "            print(\"here 3\")\n",
    "            reset = False\n",
    "            blue = False\n",
    "            red = False\n",
    "            green = True\n",
    "            \n",
    "            \n",
    "async def Off_Button(_loop): #3 , all pins off\n",
    "    global red, blue, green, reset\n",
    "    while True:\n",
    "        await asyncio.sleep(0.05)\n",
    "        if base.buttons[3].read() != 0:\n",
    "            print(\"off\")\n",
    "            reset = False\n",
    "            blue = False\n",
    "            red = False\n",
    "            green = False\n",
    "            \n",
    "start = asyncio.new_event_loop()\n",
    "Blue.create_task(flash_Blue())\n",
    "Red.create_task(flash_Red())\n",
    "Green.create_task(flash_Green())\n",
    "start.create_task(Blue_Button(Blue))\n",
    "start.create_task(Red_Button(start))\n",
    "start.create_task(Green_Button(start))\n",
    "start.create_task(Off_Button(start))\n",
    "start.create_task(flash_Blue())\n",
    "start.create_task(flash_Red())\n",
    "start.create_task(flash_Green())\n",
    "start.run_forever()\n",
    "led4.write(0x0)\n",
    "led5.write(0x0)\n",
    "print(\"Done.\")"
   ]
  },
  {
   "cell_type": "code",
   "execution_count": 17,
   "id": "bff1df52",
   "metadata": {},
   "outputs": [],
   "source": [
    "write_gpio(1,0)"
   ]
  },
  {
   "cell_type": "code",
   "execution_count": 15,
   "id": "cca77d74",
   "metadata": {},
   "outputs": [],
   "source": [
    "write_gpio(3,0)"
   ]
  },
  {
   "cell_type": "code",
   "execution_count": null,
   "id": "8d187b56",
   "metadata": {},
   "outputs": [],
   "source": []
  }
 ],
 "metadata": {
  "kernelspec": {
   "display_name": "Python 3 (ipykernel)",
   "language": "python",
   "name": "python3"
  },
  "language_info": {
   "codemirror_mode": {
    "name": "ipython",
    "version": 3
   },
   "file_extension": ".py",
   "mimetype": "text/x-python",
   "name": "python",
   "nbconvert_exporter": "python",
   "pygments_lexer": "ipython3",
   "version": "3.10.4"
  }
 },
 "nbformat": 4,
 "nbformat_minor": 5
}
