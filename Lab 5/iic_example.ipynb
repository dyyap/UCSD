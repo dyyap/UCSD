{
 "cells": [
  {
   "cell_type": "markdown",
   "metadata": {
    "id": "Fs5TR4iibJE6"
   },
   "source": [
    "# Using PYNQ library for PMOD_ADC\n",
    "\n",
    "This just uses the built in Pmod_ADC library to read the value on the PMOD_AD2 peripheral."
   ]
  },
  {
   "cell_type": "code",
   "execution_count": 20,
   "metadata": {
    "id": "xjDlpBuobJE-"
   },
   "outputs": [],
   "source": [
    "from pynq.overlays.base import BaseOverlay\n",
    "from pynq.lib import Pmod_ADC\n",
    "base = BaseOverlay(\"base.bit\")"
   ]
  },
  {
   "cell_type": "code",
   "execution_count": 21,
   "metadata": {
    "id": "4UMzOxCBbJE_"
   },
   "outputs": [],
   "source": [
    "adc = Pmod_ADC(base.PMODA)"
   ]
  },
  {
   "cell_type": "markdown",
   "metadata": {
    "id": "hPqHRI81bJE_"
   },
   "source": [
    "Read the raw value and the 12 bit values from channel 1.\n",
    "\n",
    "Refer to docs: https://pynq.readthedocs.io/en/v2.1/pynq_package/pynq.lib/pynq.lib.pmod.html#pynq-lib-pmod"
   ]
  },
  {
   "cell_type": "code",
   "execution_count": 22,
   "metadata": {
    "id": "ZUPuwo0bbJFA"
   },
   "outputs": [
    {
     "data": {
      "text/plain": [
       "[0]"
      ]
     },
     "execution_count": 22,
     "metadata": {},
     "output_type": "execute_result"
    }
   ],
   "source": [
    "adc.read_raw(ch1=1, ch2=0, ch3=0)"
   ]
  },
  {
   "cell_type": "code",
   "execution_count": 37,
   "metadata": {},
   "outputs": [
    {
     "name": "stdout",
     "output_type": "stream",
     "text": [
      "Help on Pmod_ADC in module pynq.lib.pmod.pmod_adc object:\n",
      "\n",
      "class Pmod_ADC(builtins.object)\n",
      " |  Pmod_ADC(mb_info)\n",
      " |  \n",
      " |  This class controls an Analog to Digital Converter Pmod.\n",
      " |  \n",
      " |  The Pmod AD2 (PB 200-217) is an analog-to-digital converter powered by \n",
      " |  AD7991. Users may configure up to 4 conversion channels at 12 bits of \n",
      " |  resolution.\n",
      " |  \n",
      " |  Attributes\n",
      " |  ----------\n",
      " |  microblaze : Pmod\n",
      " |      Microblaze processor instance used by this module.\n",
      " |  log_running : int\n",
      " |      The state of the log (0: stopped, 1: started).\n",
      " |  \n",
      " |  Methods defined here:\n",
      " |  \n",
      " |  __init__(self, mb_info)\n",
      " |      Return a new instance of an ADC object.\n",
      " |      \n",
      " |      Parameters\n",
      " |      ----------\n",
      " |      mb_info : dict\n",
      " |          A dictionary storing Microblaze information, such as the\n",
      " |          IP name and the reset name.\n",
      " |  \n",
      " |  get_log(self)\n",
      " |      Get the log of voltage values.\n",
      " |      \n",
      " |      First stop the log before getting the log.\n",
      " |      \n",
      " |      Returns\n",
      " |      -------\n",
      " |      list\n",
      " |          List of voltage samples from the ADC.\n",
      " |  \n",
      " |  get_log_raw(self)\n",
      " |      Get the log of raw values.\n",
      " |      \n",
      " |      First stop the log before getting the log.\n",
      " |      \n",
      " |      Returns\n",
      " |      -------\n",
      " |      list\n",
      " |          List of raw samples from the ADC.\n",
      " |  \n",
      " |  read(self, ch1=1, ch2=0, ch3=0)\n",
      " |      Get the voltage from the Pmod ADC.\n",
      " |      \n",
      " |      When ch1, ch2, and ch3 values are 1 then the corresponding channel\n",
      " |      is included. \n",
      " |      \n",
      " |      For each channel selected, this method reads and returns one sample. \n",
      " |             \n",
      " |      Note\n",
      " |      ----\n",
      " |      The 4th channel is not available due to the jumper setting on ADC.\n",
      " |      \n",
      " |      Note\n",
      " |      ----\n",
      " |      This method reads the voltage values from ADC.\n",
      " |      \n",
      " |      Parameters\n",
      " |      ----------\n",
      " |      ch1 : int\n",
      " |          1 means include channel 1, 0 means do not include.\n",
      " |      ch2 : int\n",
      " |          1 means include channel 2, 0 means do not include.\n",
      " |      ch3 : int\n",
      " |          1 means include channel 3, 0 means do not include.\n",
      " |      \n",
      " |      Returns\n",
      " |      -------\n",
      " |      list\n",
      " |          The voltage values read from the 3 channels of the Pmod ADC.\n",
      " |  \n",
      " |  read_raw(self, ch1=1, ch2=0, ch3=0)\n",
      " |      Get the raw value from the Pmod ADC.\n",
      " |      \n",
      " |      When ch1, ch2, and ch3 values are 1 then the corresponding channel\n",
      " |      is included. \n",
      " |      \n",
      " |      For each channel selected, this method reads and returns one sample. \n",
      " |      \n",
      " |              \n",
      " |      Note\n",
      " |      ----\n",
      " |      The 4th channel is not available due to the jumper (JP1) setting on \n",
      " |      ADC.\n",
      " |      \n",
      " |      Note\n",
      " |      ----\n",
      " |      This method reads the raw value from ADC.\n",
      " |      \n",
      " |      Parameters\n",
      " |      ----------\n",
      " |      ch1 : int\n",
      " |          1 means include channel 1, 0 means do not include.\n",
      " |      ch2 : int\n",
      " |          1 means include channel 2, 0 means do not include.\n",
      " |      ch3 : int\n",
      " |          1 means include channel 3, 0 means do not include.\n",
      " |      \n",
      " |      Returns\n",
      " |      -------\n",
      " |      list\n",
      " |          The raw values read from the 3 channels of the Pmod ADC.\n",
      " |  \n",
      " |  reset(self)\n",
      " |      Reset the ADC.\n",
      " |      \n",
      " |      Returns\n",
      " |      -------\n",
      " |      None\n",
      " |  \n",
      " |  start_log(self, ch1=1, ch2=0, ch3=0, log_interval_us=100)\n",
      " |      Start the log of voltage values with the interval specified.\n",
      " |      \n",
      " |      This parameter `log_interval_us` can set the time interval between \n",
      " |      two samples, so that users can read out multiple values in a single \n",
      " |      log.  \n",
      " |      \n",
      " |      Parameters\n",
      " |      ----------\n",
      " |      ch1 : int\n",
      " |          1 means include channel 1, 0 means do not include.\n",
      " |      ch2 : int\n",
      " |          1 means include channel 2, 0 means do not include.\n",
      " |      ch3 : int\n",
      " |          1 means include channel 3, 0 means do not include.\n",
      " |      log_interval_us : int\n",
      " |          The length of the log in milliseconds, for debug only.\n",
      " |          \n",
      " |      Returns\n",
      " |      -------\n",
      " |      None\n",
      " |  \n",
      " |  start_log_raw(self, ch1=1, ch2=0, ch3=0, log_interval_us=100)\n",
      " |      Start the log of raw values with the interval specified.\n",
      " |      \n",
      " |      This parameter `log_interval_us` can set the time interval between \n",
      " |      two samples, so that users can read out multiple values in a single \n",
      " |      log.  \n",
      " |      \n",
      " |      Parameters\n",
      " |      ----------\n",
      " |      ch1 : int\n",
      " |          1 means include channel 1, 0 means do not include.\n",
      " |      ch2 : int\n",
      " |          1 means include channel 2, 0 means do not include.\n",
      " |      ch3 : int\n",
      " |          1 means include channel 3, 0 means do not include.\n",
      " |      log_interval_us : int\n",
      " |          The length of the log in milliseconds, for debug only.\n",
      " |          \n",
      " |      Returns\n",
      " |      -------\n",
      " |      None\n",
      " |  \n",
      " |  stop_log(self)\n",
      " |      Stop the log of voltage values.\n",
      " |      \n",
      " |      This is done by sending the reset command to IOP. There is no need to\n",
      " |      wait for the IOP.\n",
      " |      \n",
      " |      Returns\n",
      " |      -------\n",
      " |      None\n",
      " |  \n",
      " |  stop_log_raw(self)\n",
      " |      Stop the log of raw values.\n",
      " |      \n",
      " |      This is done by sending the reset command to IOP. There is no need to\n",
      " |      wait for the IOP.\n",
      " |      \n",
      " |      Returns\n",
      " |      -------\n",
      " |      None\n",
      " |  \n",
      " |  ----------------------------------------------------------------------\n",
      " |  Data descriptors defined here:\n",
      " |  \n",
      " |  __dict__\n",
      " |      dictionary for instance variables (if defined)\n",
      " |  \n",
      " |  __weakref__\n",
      " |      list of weak references to the object (if defined)\n",
      "\n"
     ]
    }
   ],
   "source": [
    "help(adc)"
   ]
  },
  {
   "cell_type": "code",
   "execution_count": null,
   "metadata": {},
   "outputs": [],
   "source": []
  },
  {
   "cell_type": "code",
   "execution_count": 23,
   "metadata": {
    "id": "f4KtefkVbJFA"
   },
   "outputs": [
    {
     "data": {
      "text/plain": [
       "[0.002]"
      ]
     },
     "execution_count": 23,
     "metadata": {},
     "output_type": "execute_result"
    }
   ],
   "source": [
    "adc.read(ch1=1, ch2=0, ch3=0)"
   ]
  },
  {
   "cell_type": "markdown",
   "metadata": {
    "id": "HcIGxRCDbJFA"
   },
   "source": [
    "# Using MicroblazeLibrary\n",
    "\n",
    "Here we're going down a level and using the microblaze library to write I2C commands directly to the PMOD_AD2 peripheral\n",
    "\n",
    "Use the documentation on the PMOD_AD2 to answer lab questions"
   ]
  },
  {
   "cell_type": "code",
   "execution_count": 24,
   "metadata": {
    "id": "SGWzJ5N6bJFB"
   },
   "outputs": [],
   "source": [
    "from pynq.overlays.base import BaseOverlay\n",
    "from pynq.lib import MicroblazeLibrary\n",
    "base = BaseOverlay(\"base.bit\")"
   ]
  },
  {
   "cell_type": "code",
   "execution_count": 25,
   "metadata": {
    "id": "i0zwGg1abJFB"
   },
   "outputs": [],
   "source": [
    "liba = MicroblazeLibrary(base.PMODA, ['i2c'])"
   ]
  },
  {
   "cell_type": "code",
   "execution_count": 26,
   "metadata": {
    "id": "AAkHZw_QbJFB",
    "scrolled": true
   },
   "outputs": [
    {
     "data": {
      "text/plain": [
       "['__class__',\n",
       " '__delattr__',\n",
       " '__dict__',\n",
       " '__dir__',\n",
       " '__doc__',\n",
       " '__eq__',\n",
       " '__format__',\n",
       " '__ge__',\n",
       " '__getattribute__',\n",
       " '__gt__',\n",
       " '__hash__',\n",
       " '__init__',\n",
       " '__init_subclass__',\n",
       " '__le__',\n",
       " '__lt__',\n",
       " '__module__',\n",
       " '__ne__',\n",
       " '__new__',\n",
       " '__reduce__',\n",
       " '__reduce_ex__',\n",
       " '__repr__',\n",
       " '__setattr__',\n",
       " '__sizeof__',\n",
       " '__str__',\n",
       " '__subclasshook__',\n",
       " '__weakref__',\n",
       " '_build_constants',\n",
       " '_build_functions',\n",
       " '_mb',\n",
       " '_populate_typedefs',\n",
       " '_rpc_stream',\n",
       " 'active_functions',\n",
       " 'i2c_close',\n",
       " 'i2c_get_num_devices',\n",
       " 'i2c_open',\n",
       " 'i2c_open_device',\n",
       " 'i2c_read',\n",
       " 'i2c_write',\n",
       " 'release',\n",
       " 'reset',\n",
       " 'visitor']"
      ]
     },
     "execution_count": 26,
     "metadata": {},
     "output_type": "execute_result"
    }
   ],
   "source": [
    "dir(liba) # list the available commands for the liba object"
   ]
  },
  {
   "cell_type": "markdown",
   "metadata": {
    "id": "2nXUx1L_bJFB"
   },
   "source": [
    "In the cell below, open a new i2c device. Check the resources for the i2c_open parameters"
   ]
  },
  {
   "cell_type": "code",
   "execution_count": 27,
   "metadata": {
    "id": "G1739qZebJFB",
    "scrolled": true
   },
   "outputs": [],
   "source": [
    "device = liba.i2c_open(3,2)# TODO open a device"
   ]
  },
  {
   "cell_type": "code",
   "execution_count": 28,
   "metadata": {},
   "outputs": [
    {
     "data": {
      "text/plain": [
       "['__class__',\n",
       " '__delattr__',\n",
       " '__dict__',\n",
       " '__dir__',\n",
       " '__doc__',\n",
       " '__eq__',\n",
       " '__format__',\n",
       " '__ge__',\n",
       " '__getattribute__',\n",
       " '__gt__',\n",
       " '__hash__',\n",
       " '__index__',\n",
       " '__init__',\n",
       " '__init_subclass__',\n",
       " '__int__',\n",
       " '__le__',\n",
       " '__lt__',\n",
       " '__module__',\n",
       " '__ne__',\n",
       " '__new__',\n",
       " '__reduce__',\n",
       " '__reduce_ex__',\n",
       " '__repr__',\n",
       " '__setattr__',\n",
       " '__sizeof__',\n",
       " '__str__',\n",
       " '__subclasshook__',\n",
       " '__weakref__',\n",
       " '_call_func',\n",
       " '_file',\n",
       " '_val',\n",
       " 'close',\n",
       " 'read',\n",
       " 'write']"
      ]
     },
     "execution_count": 28,
     "metadata": {},
     "output_type": "execute_result"
    }
   ],
   "source": [
    "dir(device) # list the commands for the device class"
   ]
  },
  {
   "cell_type": "code",
   "execution_count": 35,
   "metadata": {},
   "outputs": [
    {
     "name": "stdout",
     "output_type": "stream",
     "text": [
      "Help on i2c in module pynq.lib.pynqmicroblaze.rpc object:\n",
      "\n",
      "class i2c(builtins.object)\n",
      " |  i2c(val)\n",
      " |  \n",
      " |  Microblaze IIC Interface\n",
      " |  \n",
      " |  Implements low-level functions for read and writing to I2C slaves.\n",
      " |  The main comonents of the API are `i2c_read` and `i2c_write` which\n",
      " |  transfer a fixed number of bytes over the I2C bus. See the function\n",
      " |  documentation for more details.\n",
      " |  \n",
      " |  To create an I2C instace use `i2c_open` or `i2c_open_device`\n",
      " |  \n",
      " |  Methods defined here:\n",
      " |  \n",
      " |  __index__(self)\n",
      " |  \n",
      " |  __init__(self, val)\n",
      " |  \n",
      " |  __int__(self)\n",
      " |  \n",
      " |  __repr__(self)\n",
      " |  \n",
      " |  close = wrapped(self)\n",
      " |      Close an I2C Device\n",
      " |      \n",
      " |      `read` and `write` should not be called on the device once\n",
      " |      it is closed\n",
      " |  \n",
      " |  read = wrapped(self, slave_address, buffer, length)\n",
      " |      Read from the I2C Bus\n",
      " |      \n",
      " |      Reads a fixed number of bytes from the I2C bus\n",
      " |      \n",
      " |      Parameters\n",
      " |      ----------\n",
      " |      slave_address : int\n",
      " |          The address of the slave to read from\n",
      " |      buffer : bytearray\n",
      " |          A writeable buffer object to read the bytes into\n",
      " |      length : int\n",
      " |          The number of bytes to read\n",
      " |      \n",
      " |      Returns\n",
      " |      -------\n",
      " |          int : The number of bytes read - can be 0 on an error\n",
      " |  \n",
      " |  write = wrapped(self, slave_address, buffer, length)\n",
      " |      Write to the I2C Bus\n",
      " |      \n",
      " |      Writes a fixed number of bytes to the I2C bus\n",
      " |      \n",
      " |      Parameters\n",
      " |      ----------\n",
      " |      slave_address : int\n",
      " |          The address of the slave to read from\n",
      " |      buffer : bytes\n",
      " |          A buffer object containing the bytes to write\n",
      " |      length : int\n",
      " |          The number of bytes to write\n",
      " |      \n",
      " |      Returns\n",
      " |      -------\n",
      " |          int : The number of bytes read - can be 0 on an error\n",
      " |  \n",
      " |  ----------------------------------------------------------------------\n",
      " |  Data descriptors defined here:\n",
      " |  \n",
      " |  __dict__\n",
      " |      dictionary for instance variables (if defined)\n",
      " |  \n",
      " |  __weakref__\n",
      " |      list of weak references to the object (if defined)\n",
      "\n"
     ]
    }
   ],
   "source": [
    "help(device)"
   ]
  },
  {
   "cell_type": "markdown",
   "metadata": {
    "id": "VuiNLUXfbJFC"
   },
   "source": [
    "Below we write a command to the I2C channel and then read from the I2C channel. Change the buf[0] value to select different channels. See the AD spec sheet Configuration Register. https://www.analog.com/media/en/technical-documentation/data-sheets/AD7991_7995_7999.pdf\n",
    "\n",
    "Changing the number of channels to read from will require a 2 byte read for each channel!"
   ]
  },
  {
   "cell_type": "code",
   "execution_count": 34,
   "metadata": {
    "id": "NkTblJ1obJFC"
   },
   "outputs": [
    {
     "name": "stdout",
     "output_type": "stream",
     "text": [
      "0b0000000011101010\n"
     ]
    }
   ],
   "source": [
    "buf = bytearray(2)\n",
    "buf[0] = int('00000000', 2)\n",
    "device.write(0x28, buf, 1)\n",
    "device.read(0x28, buf, 2)\n",
    "print(format(int(((buf[0] << 8) | buf[1])), '#018b'))"
   ]
  },
  {
   "cell_type": "markdown",
   "metadata": {
    "id": "e18BrrVSbJFC"
   },
   "source": [
    "Compare the binary output given by ((buf[0]<<8) | buf[1]) to the AD7991 spec sheet. You can select the data only using the following command"
   ]
  },
  {
   "cell_type": "code",
   "execution_count": 30,
   "metadata": {
    "id": "s3wcNQTybJFC"
   },
   "outputs": [],
   "source": [
    "result_12bit = (((buf[0] & 0x0F) << 8) | buf[1])"
   ]
  },
  {
   "cell_type": "markdown",
   "metadata": {
    "id": "FPDa1IiSbJFD"
   },
   "source": [
    "# Using MicroBlaze"
   ]
  },
  {
   "cell_type": "code",
   "execution_count": 17,
   "metadata": {
    "id": "2JvyY5QmbJFD"
   },
   "outputs": [],
   "source": [
    "base = BaseOverlay(\"base.bit\")"
   ]
  },
  {
   "cell_type": "code",
   "execution_count": 18,
   "metadata": {
    "id": "pLrRT0eobJFD"
   },
   "outputs": [],
   "source": [
    "%%microblaze base.PMODA\n",
    "\n",
    "#include \"i2c.h\"\n",
    "\n",
    "int read_adc(){\n",
    "    i2c device = i2c_open(3, 2);\n",
    "    unsigned char buf[2];\n",
    "    buf[0] = 0;\n",
    "    i2c_write(device, 0x28, buf, 1);\n",
    "    i2c_read(device, 0x28, buf, 2);\n",
    "    return ((buf[0] & 0x0F) << 8) | buf[1];\n",
    "}"
   ]
  },
  {
   "cell_type": "code",
   "execution_count": 19,
   "metadata": {
    "id": "WtBxES6fbJFD"
   },
   "outputs": [
    {
     "data": {
      "text/plain": [
       "236"
      ]
     },
     "execution_count": 19,
     "metadata": {},
     "output_type": "execute_result"
    }
   ],
   "source": [
    "read_adc()"
   ]
  },
  {
   "cell_type": "code",
   "execution_count": null,
   "metadata": {},
   "outputs": [],
   "source": []
  }
 ],
 "metadata": {
  "colab": {
   "name": "iic_example.ipynb",
   "provenance": []
  },
  "kernelspec": {
   "display_name": "Python 3 (ipykernel)",
   "language": "python",
   "name": "python3"
  },
  "language_info": {
   "codemirror_mode": {
    "name": "ipython",
    "version": 3
   },
   "file_extension": ".py",
   "mimetype": "text/x-python",
   "name": "python",
   "nbconvert_exporter": "python",
   "pygments_lexer": "ipython3",
   "version": "3.10.4"
  }
 },
 "nbformat": 4,
 "nbformat_minor": 1
}
